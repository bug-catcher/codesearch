{
 "cells": [
  {
   "cell_type": "markdown",
   "metadata": {},
   "source": [
    "© 2020 Nokia\n",
    "\n",
    "Licensed under the BSD 3 Clause license\n",
    "\n",
    "SPDX-License-Identifier: BSD-3-Clause"
   ]
  },
  {
   "cell_type": "markdown",
   "metadata": {
    "Collapsed": "false"
   },
   "source": [
    "# Script to evaluate model on PACS benchmark"
   ]
  },
  {
   "cell_type": "code",
   "execution_count": null,
   "metadata": {
    "Collapsed": "false"
   },
   "outputs": [],
   "source": [
    "%load_ext autoreload\n",
    "%autoreload 2\n",
    "import os; os.environ[\"CUDA_VISIBLE_DEVICES\"] = ''\n",
    "from codesearch.benchmark import benchmark_on_pacs"
   ]
  },
  {
   "cell_type": "code",
   "execution_count": null,
   "metadata": {
    "Collapsed": "false"
   },
   "outputs": [],
   "source": [
    "experiments_dir = '/nfs/datasets/geert/codesearch/nbs/'\n",
    "\n",
    "\n",
    "models = [\n",
    "    (\"bm25\", \"bm25/best_bm25/\"),\n",
    "    (\"ncs-conala\", \"ncs/conala/best_ncs_embedder/\"),\n",
    "    (\"ncs-staqc\", \"ncs/staqc-py/best_ncs_embedder/\"),\n",
    "    (\"ncs-so-ds\", \"ncs/so-ds-feb20/best_ncs_embedder/\"),\n",
    "    (\"unif-conala\", 'unif/conala/best_unif_embedder/'),\n",
    "    (\"unif-staqc\", 'unif/staqc-py/best_unif_embedder/'),\n",
    "    (\"unif-so-ds\", 'unif/so-ds-feb20/best_unif_embedder/'),\n",
    "    (\"tbm25\", \"tbm25/best_tbm25/\"),\n",
    "    \"tnbow-embedder-so.feb20\",\n",
    "    (\"use-embedder-nofinetuning\", \"tuse-nofinetuning\"),\n",
    "    (\"use-embedder-pacsv1-no-relu\", f\"{experiments_dir}/tuse/pacsv1/use5-act=linear_sigmoid-sim=cosine-negsamples=5-lr=0.0001-dropout=0.0-date=87/use_steps=7300\"),\n",
    "    (\"use-embedder-pacsv1\", f\"{experiments_dir}/tuse/pacsv1/use5-act=relu_sigmoid-sim=cosine-negsamples=5-lr=0.0001-dropout=0.0-date=87/use_steps=1300\"),\n",
    "]"
   ]
  },
  {
   "cell_type": "code",
   "execution_count": null,
   "metadata": {
    "Collapsed": "false"
   },
   "outputs": [],
   "source": [
    "for model in models:\n",
    "    if isinstance(model, tuple):\n",
    "        model_name, model_path = model\n",
    "    else:\n",
    "        model_name, model_path = 2 * [model]\n",
    "        \n",
    "    benchmark_on_pacs(\n",
    "        model_path=model_path,\n",
    "        model_name=model_name,\n",
    "        output_dir=\"pacsv1_results\",\n",
    "        batch_size=512\n",
    "    )"
   ]
  }
 ],
 "metadata": {
  "kernelspec": {
   "display_name": "codesearch",
   "language": "python",
   "name": "codesearch"
  },
  "language_info": {
   "codemirror_mode": {
    "name": "ipython",
    "version": 3
   },
   "file_extension": ".py",
   "mimetype": "text/x-python",
   "name": "python",
   "nbconvert_exporter": "python",
   "pygments_lexer": "ipython3",
   "version": "3.6.10"
  }
 },
 "nbformat": 4,
 "nbformat_minor": 4
}