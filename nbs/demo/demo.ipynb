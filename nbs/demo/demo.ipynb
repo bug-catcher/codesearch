{
 "cells": [
  {
   "cell_type": "markdown",
   "metadata": {
    "Collapsed": "false"
   },
   "source": [
    "© 2020 Nokia\n",
    "\n",
    "Licensed under the BSD 3 Clause license\n",
    "\n",
    "SPDX-License-Identifier: BSD-3-Clause"
   ]
  },
  {
   "cell_type": "code",
   "execution_count": 1,
   "metadata": {
    "Collapsed": "false"
   },
   "outputs": [],
   "source": [
    "%reload_ext demo"
   ]
  },
  {
   "cell_type": "code",
   "execution_count": 2,
   "metadata": {
    "Collapsed": "false",
    "collapsed": true,
    "jupyter": {
     "outputs_hidden": true
    }
   },
   "outputs": [
    {
     "data": {
      "text/plain": [
       "['codesearchnet-go',\n",
       " 'codesearchnet-go-test',\n",
       " 'codesearchnet-go-train',\n",
       " 'codesearchnet-go-valid',\n",
       " 'codesearchnet-java',\n",
       " 'codesearchnet-java-test',\n",
       " 'codesearchnet-java-train',\n",
       " 'codesearchnet-java-valid',\n",
       " 'codesearchnet-javascript',\n",
       " 'codesearchnet-javascript-test',\n",
       " 'codesearchnet-javascript-train',\n",
       " 'codesearchnet-javascript-valid',\n",
       " 'codesearchnet-php',\n",
       " 'codesearchnet-php-test',\n",
       " 'codesearchnet-php-train',\n",
       " 'codesearchnet-php-valid',\n",
       " 'codesearchnet-python',\n",
       " 'codesearchnet-python-test',\n",
       " 'codesearchnet-python-train',\n",
       " 'codesearchnet-python-valid',\n",
       " 'codesearchnet-ruby',\n",
       " 'codesearchnet-ruby-test',\n",
       " 'codesearchnet-ruby-train',\n",
       " 'codesearchnet-ruby-valid',\n",
       " 'conala-curated',\n",
       " 'so-ds-feb20',\n",
       " 'staqc-py-cleaned']"
      ]
     },
     "execution_count": 2,
     "metadata": {},
     "output_type": "execute_result"
    }
   ],
   "source": [
    "%list_snippet_collections"
   ]
  },
  {
   "cell_type": "code",
   "execution_count": 3,
   "metadata": {
    "Collapsed": "false"
   },
   "outputs": [],
   "source": [
    "%load_snippets so-ds-feb20"
   ]
  },
  {
   "cell_type": "code",
   "execution_count": 4,
   "metadata": {
    "Collapsed": "false"
   },
   "outputs": [
    {
     "data": {
      "text/plain": [
       "['ncs-embedder-so.feb20',\n",
       " 'ncs-embedder-staqc-py',\n",
       " 'tnbow-embedder-so.feb20',\n",
       " 'use-embedder-pacsv1',\n",
       " 'use-embedder-so.feb20']"
      ]
     },
     "execution_count": 4,
     "metadata": {},
     "output_type": "execute_result"
    }
   ],
   "source": [
    "%list_models"
   ]
  },
  {
   "cell_type": "code",
   "execution_count": 5,
   "metadata": {
    "Collapsed": "false"
   },
   "outputs": [
    {
     "name": "stdout",
     "output_type": "stream",
     "text": [
      "Loading model\n",
      "The model path already exists. The model is probably already downloaded\n",
      "codesearch.tuse.tuse_embedder.TuseEmbedder\n"
     ]
    },
    {
     "name": "stderr",
     "output_type": "stream",
     "text": [
      "100%|██████████| 1214/1214 [01:40<00:00, 12.06it/s]\n"
     ]
    },
    {
     "name": "stdout",
     "output_type": "stream",
     "text": [
      "Loading model\n",
      "The model path already exists. The model is probably already downloaded\n",
      "codesearch.ncs.ncs_embedder.NcsEmbedder\n",
      "codesearch.encoders.BasicEncoder\n"
     ]
    },
    {
     "name": "stderr",
     "output_type": "stream",
     "text": [
      "Warning : `load_model` does not return WordVectorModel or SupervisedModel any more, but a `FastText` object which is very similar.\n",
      "Embedding snippets:   0%|          | 0/12137 [00:00<?, ?it/s]"
     ]
    },
    {
     "name": "stdout",
     "output_type": "stream",
     "text": [
      "Initializing spacy nlp /\n",
      "Initialized spacy nlp\n"
     ]
    },
    {
     "name": "stderr",
     "output_type": "stream",
     "text": [
      "Embedding snippets: 100%|██████████| 12137/12137 [00:47<00:00, 255.69it/s]\n"
     ]
    },
    {
     "name": "stdout",
     "output_type": "stream",
     "text": [
      "Contains all zero rows\n"
     ]
    }
   ],
   "source": [
    "%load_model use-embedder-pacsv1\n",
    "%load_model ncs-embedder-so.feb20"
   ]
  },
  {
   "cell_type": "code",
   "execution_count": 7,
   "metadata": {
    "Collapsed": "false"
   },
   "outputs": [
    {
     "name": "stderr",
     "output_type": "stream",
     "text": [
      "100%|██████████| 1/1 [00:00<00:00, 10.14it/s]\n",
      "100%|██████████| 1/1 [00:00<00:00, 954.34it/s]\n"
     ]
    },
    {
     "data": {
      "application/vnd.jupyter.widget-view+json": {
       "model_id": "1d7e34f87fcc40e3af88a760bff69428",
       "version_major": 2,
       "version_minor": 0
      },
      "text/plain": [
       "VBox(children=(GridspecLayout(children=(HTML(value='<h2>use-embedder-pacsv1</h2>', layout=Layout(grid_area='wi…"
      ]
     },
     "metadata": {},
     "output_type": "display_data"
    }
   ],
   "source": [
    "%query draw a bar chart"
   ]
  },
  {
   "cell_type": "code",
   "execution_count": null,
   "metadata": {
    "Collapsed": "false"
   },
   "outputs": [],
   "source": []
  }
 ],
 "metadata": {
  "kernelspec": {
   "display_name": "codesearch",
   "language": "python",
   "name": "codesearch"
  },
  "language_info": {
   "codemirror_mode": {
    "name": "ipython",
    "version": 3
   },
   "file_extension": ".py",
   "mimetype": "text/x-python",
   "name": "python",
   "nbconvert_exporter": "python",
   "pygments_lexer": "ipython3",
   "version": "3.6.10"
  }
 },
 "nbformat": 4,
 "nbformat_minor": 4
}
