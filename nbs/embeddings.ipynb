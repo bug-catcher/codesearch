{
 "cells": [
  {
   "cell_type": "markdown",
   "metadata": {
    "Collapsed": "false"
   },
   "source": [
    "# Getting embeddings for queries and snippets\n",
    "\n",
    "This notebook demonstrates how to get snippet/query embeddings with pre-trained models"
   ]
  },
  {
   "cell_type": "markdown",
   "metadata": {
    "Collapsed": "false"
   },
   "source": [
    "© 2020 Nokia\n",
    "\n",
    "Licensed under the BSD 3 Clause license\n",
    "\n",
    "SPDX-License-Identifier: BSD-3-Clause"
   ]
  },
  {
   "cell_type": "code",
   "execution_count": 1,
   "metadata": {
    "Collapsed": "false"
   },
   "outputs": [],
   "source": [
    "from codesearch.utils import load_model\n",
    "from codesearch.data_config import MODELS"
   ]
  },
  {
   "cell_type": "markdown",
   "metadata": {
    "Collapsed": "false"
   },
   "source": [
    "### List which pretrained models are available"
   ]
  },
  {
   "cell_type": "code",
   "execution_count": 2,
   "metadata": {
    "Collapsed": "false"
   },
   "outputs": [
    {
     "data": {
      "text/plain": [
       "['ncs-embedder-so.feb20', 'tnbow-embedder-so.feb20', 'use-embedder-so.feb20']"
      ]
     },
     "execution_count": 2,
     "metadata": {},
     "output_type": "execute_result"
    }
   ],
   "source": [
    "sorted(MODELS)"
   ]
  },
  {
   "cell_type": "markdown",
   "metadata": {
    "Collapsed": "false"
   },
   "source": [
    "### Load one of the models"
   ]
  },
  {
   "cell_type": "code",
   "execution_count": 3,
   "metadata": {
    "Collapsed": "false"
   },
   "outputs": [
    {
     "name": "stdout",
     "output_type": "stream",
     "text": [
      "Downloading ncs-embedder-so.feb20 model from http://codebook.dyn.nesc.nokia.net:8089/codesearch-experiments/models/ncs-embedder-so.feb20.tar.gz\n",
      "codesearch.ncs.ncs_embedder.NcsEmbedder\n",
      "codesearch.encoders.BasicEncoder\n"
     ]
    },
    {
     "name": "stderr",
     "output_type": "stream",
     "text": [
      "Warning : `load_model` does not return WordVectorModel or SupervisedModel any more, but a `FastText` object which is very similar.\n"
     ]
    }
   ],
   "source": [
    "modelname = \"ncs-embedder-so.feb20\"\n",
    "embedder = load_model(modelname)"
   ]
  },
  {
   "cell_type": "markdown",
   "metadata": {
    "Collapsed": "false"
   },
   "source": [
    "### Embed queries"
   ]
  },
  {
   "cell_type": "code",
   "execution_count": 4,
   "metadata": {
    "Collapsed": "false"
   },
   "outputs": [
    {
     "name": "stdout",
     "output_type": "stream",
     "text": [
      "Initializing spacy nlp \\\n",
      "Initialized spacy nlp\n"
     ]
    },
    {
     "data": {
      "text/plain": [
       "(1, 100)"
      ]
     },
     "execution_count": 4,
     "metadata": {},
     "output_type": "execute_result"
    }
   ],
   "source": [
    "query_embs = embedder.embed_queries([\"create a bar plot\"])\n",
    "query_embs.shape"
   ]
  },
  {
   "cell_type": "markdown",
   "metadata": {
    "Collapsed": "false"
   },
   "source": [
    "### Embed snippets"
   ]
  },
  {
   "cell_type": "code",
   "execution_count": 5,
   "metadata": {
    "Collapsed": "false"
   },
   "outputs": [
    {
     "data": {
      "text/plain": [
       "(1, 100)"
      ]
     },
     "execution_count": 5,
     "metadata": {},
     "output_type": "execute_result"
    }
   ],
   "source": [
    "language = \"python\"\n",
    "code = \\\n",
    "\"\"\"\n",
    "import matplotlib.pyplot as plt\n",
    "import numpy as np\n",
    "\n",
    "y = np.random.rand(8)\n",
    "idxs = np.arange(len(y))\n",
    "plt.bar(idxs, y)\n",
    "plt.show()\n",
    "\"\"\"\n",
    "snippet = {\"description\": \"plot a bar chart\", \n",
    "           \"code\": code,\n",
    "           \"language\": \"python\"\n",
    "          }\n",
    "snippet_embs = embedder.embed_snippets([snippet])\n",
    "snippet_embs.shape"
   ]
  },
  {
   "cell_type": "markdown",
   "metadata": {
    "Collapsed": "false"
   },
   "source": [
    "### Compute the similarity between a query and snippet"
   ]
  },
  {
   "cell_type": "code",
   "execution_count": 6,
   "metadata": {
    "Collapsed": "false"
   },
   "outputs": [
    {
     "data": {
      "text/plain": [
       "array([[0.739]], dtype=float16)"
      ]
     },
     "execution_count": 6,
     "metadata": {},
     "output_type": "execute_result"
    }
   ],
   "source": [
    "import numpy as np\n",
    "\n",
    "query_embs_n = query_embs/(np.linalg.norm(query_embs, axis=1, keepdims=True))\n",
    "snippet_embs_n = snippet_embs/(np.linalg.norm(snippet_embs, axis=1, keepdims=True))\n",
    "cosine_sims = np.dot(query_embs_n, snippet_embs_n.T)\n",
    "cosine_sims"
   ]
  },
  {
   "cell_type": "code",
   "execution_count": null,
   "metadata": {
    "Collapsed": "false"
   },
   "outputs": [],
   "source": []
  }
 ],
 "metadata": {
  "kernelspec": {
   "display_name": "codesearch",
   "language": "python",
   "name": "codesearch"
  },
  "language_info": {
   "codemirror_mode": {
    "name": "ipython",
    "version": 3
   },
   "file_extension": ".py",
   "mimetype": "text/x-python",
   "name": "python",
   "nbconvert_exporter": "python",
   "pygments_lexer": "ipython3",
   "version": "3.6.10"
  }
 },
 "nbformat": 4,
 "nbformat_minor": 4
}
