{
 "cells": [
  {
   "cell_type": "markdown",
   "metadata": {
    "Collapsed": "false"
   },
   "source": [
    "© 2020 Nokia\n",
    "\n",
    "Licensed under the BSD 3 Clause license\n",
    "\n",
    "SPDX-License-Identifier: BSD-3-Clause"
   ]
  },
  {
   "cell_type": "markdown",
   "metadata": {
    "Collapsed": "false"
   },
   "source": [
    "## Setup"
   ]
  },
  {
   "cell_type": "code",
   "execution_count": null,
   "metadata": {
    "Collapsed": "false"
   },
   "outputs": [],
   "source": [
    "%load_ext autoreload\n",
    "%autoreload 2\n",
    "\n",
    "import os\n",
    "import json\n",
    "import time\n",
    "import numpy as np\n",
    "import sys\n",
    "\n",
    "from codesearch.encoders import BasicEncoder\n",
    "from codesearch import embedding_pretraining\n",
    "from codesearch.embedding_pretraining import train_fasttext_model_from_snippets, load_fasttext_model\n",
    "from codesearch.utils import SaveableFunction\n",
    "from codesearch.data import load_snippet_collection, EVAL_DATASETS, SNIPPET_COLLECTIONS, eval_datasets_from_regex\n",
    "from codesearch.ncs.ncs_embedder import TfidfCodeEmbedder, NcsEmbedder\n",
    "from codesearch.evaluation import evaluate_and_dump \n",
    "from codesearch.embedding_retrieval import EmbeddingRetrievalModel\n",
    "start = time.time()"
   ]
  },
  {
   "cell_type": "markdown",
   "metadata": {
    "Collapsed": "false"
   },
   "source": [
    "Read configuration parameters from environment variables (when this notebook is run as a script)."
   ]
  },
  {
   "cell_type": "code",
   "execution_count": null,
   "metadata": {
    "Collapsed": "false"
   },
   "outputs": [],
   "source": [
    "fast_text_checkpoint = os.environ.get(\"fast_text_checkpoint\", None)\n",
    "model_filename = os.environ.get(\"model_filename\", None)\n",
    "\n",
    "snippets_collection = os.environ.get(\"snippets_collection\", \"conala-curated\")\n",
    "train_snippets_collection = os.environ.get(\"train_snippets_collection\", \"conala-curated\")\n",
    "valid_dataset = os.environ.get(\"valid_dataset\", None)\n",
    "test_dataset = os.environ.get(\"test_dataset\", \"conala-curated-0.5-test\")\n",
    "\n",
    "text_overrides = json.loads(os.environ.get(\"text_overrides\", \"{}\"))\n",
    "code_overrides = json.loads(os.environ.get(\"code_overrides\", \"{}\"))\n",
    "fast_text_overrides = json.loads(os.environ.get(\"fast_text_overrides\", \"{}\"))\n",
    "zip_fn_name = os.environ.get(\"zip_fn\", \"zip_descr_end\")\n",
    "output_dir = os.environ.get(\"output_dir\", \".\")"
   ]
  },
  {
   "cell_type": "code",
   "execution_count": null,
   "metadata": {
    "Collapsed": "false"
   },
   "outputs": [],
   "source": [
    "model_filename, fast_text_checkpoint"
   ]
  },
  {
   "cell_type": "code",
   "execution_count": null,
   "metadata": {
    "Collapsed": "false"
   },
   "outputs": [],
   "source": [
    "snippets_collection"
   ]
  },
  {
   "cell_type": "code",
   "execution_count": null,
   "metadata": {
    "Collapsed": "false"
   },
   "outputs": [],
   "source": [
    "text_overrides, code_overrides, fast_text_overrides, zip_fn_name"
   ]
  },
  {
   "cell_type": "markdown",
   "metadata": {
    "Collapsed": "false"
   },
   "source": [
    "## Load data"
   ]
  },
  {
   "cell_type": "code",
   "execution_count": null,
   "metadata": {
    "Collapsed": "false"
   },
   "outputs": [],
   "source": [
    "if valid_dataset and valid_dataset not in EVAL_DATASETS and valid_dataset not in SNIPPET_COLLECTIONS:\n",
    "    raise ValueError()\n",
    "test_datasets = eval_datasets_from_regex(test_dataset)\n",
    "snippets = load_snippet_collection(snippets_collection)\n",
    "train_snippets = load_snippet_collection(train_snippets_collection) "
   ]
  },
  {
   "cell_type": "markdown",
   "metadata": {
    "Collapsed": "false"
   },
   "source": [
    "## Train or load embedding model"
   ]
  },
  {
   "cell_type": "code",
   "execution_count": null,
   "metadata": {
    "Collapsed": "false"
   },
   "outputs": [],
   "source": [
    "if fast_text_checkpoint:\n",
    "    model, enc = load_fasttext_model(fast_text_checkpoint)\n",
    "    print(\"Loaded fast text checkpoint\")\n",
    "    \n",
    "else:\n",
    "    enc = BasicEncoder(text_preprocessing_params=text_overrides, code_preprocessing_params=code_overrides)\n",
    "    zip_fn = getattr(sys.modules[embedding_pretraining.__name__], zip_fn_name)\n",
    "    model = train_fasttext_model_from_snippets(train_snippets, enc, zip_fn, fast_text_overrides, \"./\", save=False)"
   ]
  },
  {
   "cell_type": "markdown",
   "metadata": {
    "Collapsed": "false"
   },
   "source": [
    "## Unsupervised retrieval baseline"
   ]
  },
  {
   "cell_type": "markdown",
   "metadata": {
    "Collapsed": "false"
   },
   "source": [
    "A first baseline that computes a representation a snippet representation as a tfidf weighted average of their embeddings and a query representation by averaging all terms."
   ]
  },
  {
   "cell_type": "markdown",
   "metadata": {
    "Collapsed": "false"
   },
   "source": [
    "### Embedding code & queries"
   ]
  },
  {
   "cell_type": "code",
   "execution_count": null,
   "metadata": {
    "Collapsed": "false"
   },
   "outputs": [],
   "source": [
    "tfidf_model = TfidfCodeEmbedder.create_tfidf_model(enc, model, snippets)\n",
    "embedder = NcsEmbedder(model, enc, tfidf_model)"
   ]
  },
  {
   "cell_type": "markdown",
   "metadata": {
    "Collapsed": "false"
   },
   "source": [
    "### Create retrieval model"
   ]
  },
  {
   "cell_type": "code",
   "execution_count": null,
   "metadata": {
    "Collapsed": "false"
   },
   "outputs": [],
   "source": [
    "retrieval_model = EmbeddingRetrievalModel(embedder)\n",
    "retrieval_model.add_snippets(snippets)"
   ]
  },
  {
   "cell_type": "code",
   "execution_count": null,
   "metadata": {
    "Collapsed": "false"
   },
   "outputs": [],
   "source": [
    "if model_filename: embedder.save(model_filename)"
   ]
  },
  {
   "cell_type": "markdown",
   "metadata": {
    "Collapsed": "false"
   },
   "source": [
    "## Evaluation"
   ]
  },
  {
   "cell_type": "code",
   "execution_count": null,
   "metadata": {
    "Collapsed": "false"
   },
   "outputs": [],
   "source": [
    "sample_queries = [\"train a tensorflow model\", \"plot a bar chart\", \"merge two dataframes\", \"sort a list\", \"read a pandas dataframe from a file\", \"plot an image\"]\n",
    "config = {\"text\": text_overrides, \"code\": code_overrides, \"fasttext\": fast_text_overrides}\n",
    "evaluate_and_dump(\n",
    "    retrieval_model, \n",
    "    config, \n",
    "    output_dir, \n",
    "    valid_dataset, \n",
    "    test_datasets,\n",
    "    sample_queries=sample_queries\n",
    ")"
   ]
  },
  {
   "cell_type": "code",
   "execution_count": null,
   "metadata": {
    "Collapsed": "false"
   },
   "outputs": [],
   "source": [
    "duration = time.time() - start\n",
    "f\"Running the notebook took {duration} seconds\""
   ]
  }
 ],
 "metadata": {
  "kernelspec": {
   "display_name": "codesearch_ml4",
   "language": "python",
   "name": "codesearch_ml4"
  },
  "language_info": {
   "codemirror_mode": {
    "name": "ipython",
    "version": 3
   },
   "file_extension": ".py",
   "mimetype": "text/x-python",
   "name": "python",
   "nbconvert_exporter": "python",
   "pygments_lexer": "ipython3",
   "version": "3.8.3"
  }
 },
 "nbformat": 4,
 "nbformat_minor": 4
}
