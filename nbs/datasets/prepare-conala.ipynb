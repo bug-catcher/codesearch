{
 "cells": [
  {
   "cell_type": "markdown",
   "metadata": {},
   "source": [
    "© 2020 Nokia\n",
    "\n",
    "Licensed under the BSD 3 Clause license\n",
    "\n",
    "SPDX-License-Identifier: BSD-3-Clause"
   ]
  },
  {
   "cell_type": "markdown",
   "metadata": {},
   "source": [
    "# Prepare Conala snippet collection and evaluation data"
   ]
  },
  {
   "cell_type": "code",
   "execution_count": 1,
   "metadata": {},
   "outputs": [],
   "source": [
    "from pathlib import Path\n",
    "import json\n",
    "from collections import defaultdict\n",
    "\n",
    "from codesearch.data import load_jsonl, save_jsonl\n",
    "\n",
    "corpus_url = \"http://www.phontron.com/download/conala-corpus-v1.1.zip\"\n",
    "conala_dir = Path(\"conala-corpus\")\n",
    "conala_train_fn = conala_dir/\"conala-test.json\"\n",
    "conala_test_fn = conala_dir/\"conala-train.json\"\n",
    "conala_mined_fn = conala_dir/\"conala-mined.jsonl\"\n",
    "\n",
    "conala_snippets_fn = \"conala-curated-snippets.jsonl\"\n",
    "conala_retrieval_test_fn = \"conala-test-curated-0.5.jsonl\"\n",
    "\n",
    "if not conala_train_fn.exists():\n",
    "    !wget $corpus_url\n",
    "    !unzip conala-corpus-v1.1.zip"
   ]
  },
  {
   "cell_type": "code",
   "execution_count": 2,
   "metadata": {},
   "outputs": [],
   "source": [
    "conala_mined = load_jsonl(conala_mined_fn)"
   ]
  },
  {
   "cell_type": "markdown",
   "metadata": {},
   "source": [
    "The mined dataset seems to noisy to incorporate in the snippet collection:"
   ]
  },
  {
   "cell_type": "code",
   "execution_count": 3,
   "metadata": {
    "tags": []
   },
   "outputs": [
    {
     "output_type": "stream",
     "name": "stdout",
     "text": "{\"parent_answer_post_id\": 19864272, \"prob\": 0.3778283882048184, \"snippet\": \"\\\"\\\"\\\"{:.2E}\\\"\\\"\\\".format(Decimal('40800000000.00000000000000'))\", \"intent\": \"Display a decimal in scientific notation\", \"id\": \"6913532_19864272_0\", \"question_id\": 6913532}\n{\"parent_answer_post_id\": 39564738, \"prob\": 0.37777091356723147, \"snippet\": \"madata.mean(axis=1)\", \"intent\": \"How can I use a 2D array of boolean rows to filter another 2D array?\", \"id\": \"39564421_39564738_1\", \"question_id\": 39564421}\n{\"parent_answer_post_id\": 35784295, \"prob\": 0.3777396155385873, \"snippet\": \"mc.set_multi({'key': 'Hello', 'another': True})\", \"intent\": \"Correct way to load bulk data\", \"id\": \"35694060_35784295_0\", \"question_id\": 35694060}\n{\"parent_answer_post_id\": 38861665, \"prob\": 0.3777389688135013, \"snippet\": \"[[1, 2], [3, 4, 5, 6], [7, 8, 9, 10, 11, 12], [13, 14]]\", \"intent\": \"Splitting a list into uneven groups?\", \"id\": \"38861457_38861665_3\", \"question_id\": 38861457}\n{\"parent_answer_post_id\": 14766816, \"prob\": 0.37772780489897867, \"snippet\": \"a = np.array([[1, 2], [10, 20], [100, 200]])\", \"intent\": \"testing whether a Numpy array contains a given row\", \"id\": \"14766194_14766816_2\", \"question_id\": 14766194}\n{\"parent_answer_post_id\": 170248, \"prob\": 0.37772618628768206, \"snippet\": \"print(list(itertools.combinations('123', 2)))\", \"intent\": \"How to generate all permutations of a list in Python\", \"id\": \"104420_170248_5\", \"question_id\": 104420}\n{\"parent_answer_post_id\": 6039046, \"prob\": 0.37770178166754137, \"snippet\": \"return set(list1).intersection(list2)\", \"intent\": \"How to return a list containing common elements with no duplicates\", \"id\": \"6039009_6039046_0\", \"question_id\": 6039009}\n{\"parent_answer_post_id\": 39575206, \"prob\": 0.3776783898049065, \"snippet\": \"olib.oshape('b')\", \"intent\": \"Acessing a variable as a string in a module\", \"id\": \"39574560_39575206_0\", \"question_id\": 39574560}\n{\"parent_answer_post_id\": 34832108, \"prob\": 0.3776495572309691, \"snippet\": \"[x for x in itertools.product(lst, repeat=3) if sum(x) == 0]\", \"intent\": \"Comprehensions in Python to sample tuples from a list\", \"id\": \"34832058_34832108_0\", \"question_id\": 34832058}\n{\"parent_answer_post_id\": 16857755, \"prob\": 0.3775775712023441, \"snippet\": \"np.bincount(accmap, weights=a)\", \"intent\": \"Is there a MATLAB accumarray equivalent in numpy?\", \"id\": \"16856470_16857755_0\", \"question_id\": 16856470}\n"
    }
   ],
   "source": [
    "!sed -n '10000,10009p;10010q' $conala_mined_fn"
   ]
  },
  {
   "cell_type": "code",
   "execution_count": 4,
   "metadata": {},
   "outputs": [
    {
     "output_type": "execute_result",
     "data": {
      "text/plain": "([{'intent': 'How can I send a signal from a python program?',\n   'rewritten_intent': 'send a signal `signal.SIGUSR1` to the current process',\n   'snippet': 'os.kill(os.getpid(), signal.SIGUSR1)',\n   'question_id': 15080500},\n  {'intent': 'Decode Hex String in Python 3',\n   'rewritten_intent': \"decode a hex string '4a4b4c' to UTF-8.\",\n   'snippet': \"bytes.fromhex('4a4b4c').decode('utf-8')\",\n   'question_id': 3283984}],\n 2879,\n 500,\n 2379)"
     },
     "metadata": {},
     "execution_count": 4
    }
   ],
   "source": [
    "with open(conala_train_fn) as f:\n",
    "    conala_train = json.load(f)\n",
    "\n",
    "with open(conala_test_fn) as f:\n",
    "    conala_test = json.load(f)\n",
    "\n",
    "conala_all = conala_train + conala_test\n",
    "conala_all[:2], len(conala_all), len(conala_train), len(conala_test)"
   ]
  },
  {
   "cell_type": "code",
   "execution_count": 6,
   "metadata": {
    "tags": []
   },
   "outputs": [
    {
     "output_type": "stream",
     "name": "stdout",
     "text": "{'intent': 'How to make List from Numpy Matrix in Python', 'rewritten_intent': 'Convert the first row of numpy matrix `a` to a list', 'snippet': 'numpy.array(a)[0].tolist()', 'question_id': 5183533}\n"
    }
   ],
   "source": [
    "for s in conala_all:\n",
    "    if s[\"rewritten_intent\"] == \"Convert the first row of numpy matrix `a` to a list\":\n",
    "        print(s)"
   ]
  },
  {
   "cell_type": "code",
   "execution_count": 48,
   "metadata": {},
   "outputs": [
    {
     "data": {
      "text/plain": [
       "(2074, 2879, 2089)"
      ]
     },
     "execution_count": 48,
     "metadata": {},
     "output_type": "execute_result"
    }
   ],
   "source": [
    "question_ids = {r[\"question_id\"] for r in conala_all}\n",
    "intents = set(r[\"intent\"] for r in conala_all)\n",
    "\n",
    "len(question_ids), len(conala_all), len(intents)"
   ]
  },
  {
   "cell_type": "code",
   "execution_count": 49,
   "metadata": {},
   "outputs": [],
   "source": [
    "id2snippet = defaultdict(list)\n",
    "for r in conala_all:\n",
    "    id2snippet[r[\"question_id\"]].append(r)"
   ]
  },
  {
   "cell_type": "code",
   "execution_count": 50,
   "metadata": {},
   "outputs": [
    {
     "name": "stdout",
     "output_type": "stream",
     "text": [
      "{'intent': 'How do I INSERT INTO t1 (SELECT * FROM t2) in SQLAlchemy?', 'rewritten_intent': 'How do I INSERT INTO t1 (SELECT * FROM t2) in SQLAlchemy?', 'snippet': \"session.execute('INSERT INTO t1 (SELECT * FROM t2)')\", 'question_id': 1849375}\n",
      "{'intent': 'Django filter by hour', 'rewritten_intent': 'django filter by hour', 'snippet': \"Entry.objects.filter(pub_date__contains='08:00')\", 'question_id': 2984751}\n",
      "{'intent': 'Reverse Y-Axis in PyPlot', 'rewritten_intent': 'reverse y-axis in pyplot', 'snippet': 'plt.gca().invert_yaxis()', 'question_id': 2051744}\n",
      "{'intent': 'calculate the date six months from the current date', 'rewritten_intent': 'calculate the date six months from the current date', 'snippet': 'print((datetime.date.today() + datetime.timedelta(((6 * 365) / 12))).isoformat())', 'question_id': 546321}\n",
      "{'intent': 'Find current directory', 'rewritten_intent': 'Find current directory', 'snippet': 'cwd = os.getcwd()', 'question_id': 5137497}\n",
      "{'intent': 'get a list of locally installed Python modules', 'rewritten_intent': 'get a list of locally installed Python modules', 'snippet': \"help('modules')\", 'question_id': 739993}\n",
      "{'intent': 'Convert generator object to a dictionary', 'rewritten_intent': 'convert generator object to a dictionary', 'snippet': '{i: (i * 2) for i in range(10)}', 'question_id': 17815945}\n",
      "{'intent': 'Convert generator object to a dictionary', 'rewritten_intent': 'convert generator object to a dictionary', 'snippet': 'dict((i, i * 2) for i in range(10))', 'question_id': 17815945}\n",
      "{'intent': 'Change directory to the directory of a Python script', 'rewritten_intent': 'change directory to the directory of a python script', 'snippet': 'os.chdir(os.path.dirname(__file__))', 'question_id': 509742}\n",
      "{'intent': 'Disable abbreviation in argparse', 'rewritten_intent': 'disable abbreviation in argparse', 'snippet': 'parser = argparse.ArgumentParser(allow_abbrev=False)', 'question_id': 10750802}\n",
      "{'intent': 'Generate random integers between 0 and 9', 'rewritten_intent': 'Generate random integers between 0 and 9', 'snippet': 'print((random.randint(0, 9)))', 'question_id': 3996904}\n",
      "{'intent': 'Creating an empty list', 'rewritten_intent': 'Creating an empty list', 'snippet': 'list()', 'question_id': 2972212}\n",
      "{'intent': 'Creating an empty list', 'rewritten_intent': 'Creating an empty list', 'snippet': '[]', 'question_id': 2972212}\n",
      "{'intent': 'get current time', 'rewritten_intent': 'get current time', 'snippet': 'datetime.datetime.now().time()', 'question_id': 415511}\n",
      "{'intent': 'get current time', 'rewritten_intent': 'get current time', 'snippet': 'datetime.datetime.time(datetime.datetime.now())', 'question_id': 415511}\n",
      "{'intent': \"What's the best way to search for a Python dictionary value in a list of dictionaries?\", 'rewritten_intent': \"What's the best way to search for a Python dictionary value in a list of dictionaries?\", 'snippet': \"any(d['site'] == 'Superuser' for d in data)\", 'question_id': 1580270}\n",
      "{'intent': 'get current CPU and RAM usage', 'rewritten_intent': 'get current CPU and RAM usage', 'snippet': 'psutil.cpu_percent()\\npsutil.virtual_memory()', 'question_id': 276052}\n",
      "{'intent': 'convert binary string to numpy array', 'rewritten_intent': 'convert binary string to numpy array', 'snippet': \"np.fromstring('\\\\x00\\\\x00\\\\x80?\\\\x00\\\\x00\\\\x00@\\\\x00\\\\x00@@\\\\x00\\\\x00\\\\x80@', dtype='>f4')\", 'question_id': 11760095}\n",
      "{'intent': 'Escaping quotes in string', 'rewritten_intent': 'escaping quotes in string', 'snippet': 'replace(\\'\"\\', \\'\\\\\\\\\"\\')', 'question_id': 6275762}\n"
     ]
    }
   ],
   "source": [
    "for r in conala_all:\n",
    "    if not r[\"intent\"]: \n",
    "        print(r)\n",
    "    if r[\"intent\"].lower() == (r[\"rewritten_intent\"] or \"\").lower():\n",
    "        print(r)"
   ]
  },
  {
   "cell_type": "code",
   "execution_count": 58,
   "metadata": {},
   "outputs": [
    {
     "name": "stdout",
     "output_type": "stream",
     "text": [
      "filtering query How do I INSERT INTO t1 (SELECT * FROM t2) in SQLAlchemy?\n",
      "filtering query Django filter by hour\n",
      "filtering query Reverse Y-Axis in PyPlot\n",
      "filtering query Find current directory\n",
      "filtering query get a list of locally installed Python modules\n",
      "filtering query Convert generator object to a dictionary\n",
      "filtering query Change directory to the directory of a Python script\n",
      "filtering query Disable abbreviation in argparse\n",
      "filtering query Generate random integers between 0 and 9\n",
      "filtering query Creating an empty list\n",
      "filtering query get current time\n",
      "filtering query What's the best way to search for a Python dictionary value in a list of dictionaries?\n",
      "filtering query get current CPU and RAM usage\n",
      "filtering query convert binary string to numpy array\n",
      "filtering query Escaping quotes in string\n"
     ]
    },
    {
     "data": {
      "text/plain": [
       "([{'id': '15080500-0',\n",
       "   'code': 'os.kill(os.getpid(), signal.SIGUSR1)',\n",
       "   'description': 'send a signal `signal.SIGUSR1` to the current process',\n",
       "   'language': 'python',\n",
       "   'attribution': 'https://stackoverflow.com/questions/15080500'},\n",
       "  {'id': '3283984-0',\n",
       "   'code': \"bytes.fromhex('4a4b4c').decode('utf-8')\",\n",
       "   'description': \"decode a hex string '4a4b4c' to UTF-8.\",\n",
       "   'language': 'python',\n",
       "   'attribution': 'https://stackoverflow.com/questions/3283984'}],\n",
       " 2777,\n",
       " [{'query': 'How can I send a signal from a python program?',\n",
       "   'relevant_ids': ['15080500-0']},\n",
       "  {'query': 'Decode Hex String in Python 3', 'relevant_ids': ['3283984-0']}],\n",
       " 2000)"
      ]
     },
     "execution_count": 58,
     "metadata": {},
     "output_type": "execute_result"
    }
   ],
   "source": [
    "import random\n",
    "random.seed(42)\n",
    "\n",
    "snippets = []\n",
    "eval_records = []\n",
    "for question_id in id2snippet:\n",
    "    snippets_ = [r for r in id2snippet[question_id] if r[\"rewritten_intent\"]]\n",
    "    if not snippets_: continue\n",
    "    for i, record in enumerate(snippets_):\n",
    "\n",
    "        snippet_record = {\n",
    "            \"id\": f'{record[\"question_id\"]}-{i}', \n",
    "            \"code\": record[\"snippet\"], \n",
    "            \"description\": record[\"rewritten_intent\"],\n",
    "            \"language\": \"python\",\n",
    "            \"attribution\": f\"https://stackoverflow.com/questions/{record['question_id']}\"\n",
    "        }\n",
    "        snippets.append(snippet_record)\n",
    "    # occasionally snippets from the same question have a slightly different intent\n",
    "    # to avoid similar queries, we create only one query per question\n",
    "    query = random.choice(snippets_)[\"intent\"]\n",
    "    \n",
    "    if any(query.lower() == r[\"description\"].lower() for r in snippets[-len(snippets_):] ):\n",
    "        print(f\"filtering query {query}\")\n",
    "        continue\n",
    "    relevant_ids = [r[\"id\"] for r in snippets[-len(snippets_):] ]\n",
    "    \n",
    "    eval_records.append({\"query\": query, \"relevant_ids\": relevant_ids})\n",
    "    \n",
    "snippets[:2], len(snippets), eval_records[:2], len(eval_records)"
   ]
  },
  {
   "cell_type": "code",
   "execution_count": 59,
   "metadata": {},
   "outputs": [],
   "source": [
    "id2snippet_ = {r[\"id\"]: r for r in snippets}"
   ]
  },
  {
   "cell_type": "code",
   "execution_count": 60,
   "metadata": {},
   "outputs": [
    {
     "name": "stdout",
     "output_type": "stream",
     "text": [
      "Query: How can I send a signal from a python program?\n",
      "Relevant descriptions: ['send a signal `signal.SIGUSR1` to the current process']\n",
      "Query: Decode Hex String in Python 3\n",
      "Relevant descriptions: [\"decode a hex string '4a4b4c' to UTF-8.\"]\n",
      "Query: check if all elements in a list are identical\n",
      "Relevant descriptions: ['check if all elements in list `myList` are identical']\n",
      "Query: Format string dynamically\n",
      "Relevant descriptions: ['format number of spaces between strings `Python`, `:` and `Very Good` to be `20`']\n",
      "Query: How I can get rid of None values in dictionary?\n",
      "Relevant descriptions: ['get rid of None values in dictionary `kwargs`', 'get rid of None values in dictionary `kwargs`']\n",
      "Query: Python: how to get the final output of multiple system commands?\n",
      "Relevant descriptions: ['capture final output of a chain of system commands `ps -ef | grep something | wc -l`']\n",
      "Query: splitting and concatenating a string\n",
      "Relevant descriptions: [\"concatenate a list of strings `['a', 'b', 'c']`\"]\n",
      "Query: Finding the intersection between two series in Pandas\n",
      "Relevant descriptions: ['find intersection data between series `s1` and series `s2`']\n",
      "Query: Sending http headers with python\n",
      "Relevant descriptions: ['sending http headers to `client`']\n",
      "Query: Python -Remove Time from Datetime String\n",
      "Relevant descriptions: ['Format a datetime string `when` to extract date only']\n",
      "Query: How do I split a multi-line string into multiple lines?\n",
      "Relevant descriptions: ['split a multi-line string `inputString` into separate strings', 'Split a multi-line string ` a \\\\n b \\\\r\\\\n c ` by new line character `\\\\n`']\n"
     ]
    }
   ],
   "source": [
    "for i, eval_record in enumerate(eval_records):\n",
    "    print(f\"Query: {eval_record['query']}\")\n",
    "    print(f\"Relevant descriptions: {[id2snippet_[id]['description'] for id in eval_record['relevant_ids']]}\")\n",
    "    if i == 10:\n",
    "        break"
   ]
  },
  {
   "cell_type": "code",
   "execution_count": 7,
   "metadata": {
    "tags": []
   },
   "outputs": [
    {
     "output_type": "stream",
     "name": "stdout",
     "text": "Initializing spacy nlp \\\nInitialized spacy nlp\n"
    },
    {
     "output_type": "execute_result",
     "data": {
      "text/plain": "(1, 1.0)"
     },
     "metadata": {},
     "execution_count": 7
    }
   ],
   "source": [
    "from codesearch.text_preprocessing import compute_overlap\n",
    "\n",
    "compute_overlap(\"this is a test\", \"test test\")"
   ]
  },
  {
   "cell_type": "code",
   "execution_count": 62,
   "metadata": {},
   "outputs": [
    {
     "data": {
      "text/plain": [
       "([{'query': 'How can I send a signal from a python program?',\n",
       "   'relevant_ids': ['15080500-0']},\n",
       "  {'query': 'Finding the intersection between two series in Pandas',\n",
       "   'relevant_ids': ['18079563-0']}],\n",
       " 762)"
      ]
     },
     "execution_count": 62,
     "metadata": {},
     "output_type": "execute_result"
    }
   ],
   "source": [
    "overlaps = []\n",
    "filtered_eval_records = []\n",
    "for r in eval_records:\n",
    "    query = r[\"query\"]\n",
    "    descriptions = [id2snippet_[id]['description'] for id in r['relevant_ids']]\n",
    "    overlap = max(compute_overlap(query, d)[1] for d in descriptions)\n",
    "    overlaps.append(overlap)\n",
    "    \n",
    "    if overlap < 0.5 :\n",
    "        filtered_eval_records.append(r)\n",
    "filtered_eval_records[:2], len(filtered_eval_records)"
   ]
  },
  {
   "cell_type": "code",
   "execution_count": 63,
   "metadata": {},
   "outputs": [],
   "source": [
    "save_jsonl(conala_snippets_fn, snippets)\n",
    "save_jsonl(conala_retrieval_test_fn, filtered_eval_records)"
   ]
  }
 ],
 "metadata": {
  "kernelspec": {
   "display_name": "Python 3",
   "language": "python",
   "name": "python3"
  },
  "language_info": {
   "codemirror_mode": {
    "name": "ipython",
    "version": 3
   },
   "file_extension": ".py",
   "mimetype": "text/x-python",
   "name": "python",
   "nbconvert_exporter": "python",
   "pygments_lexer": "ipython3",
   "version": "3.7.7"
  }
 },
 "nbformat": 4,
 "nbformat_minor": 4
}