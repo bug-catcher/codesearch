{
 "cells": [
  {
   "cell_type": "markdown",
   "metadata": {},
   "source": [
    "© 2020 Nokia\n",
    "\n",
    "Licensed under the BSD 3 Clause license\n",
    "\n",
    "SPDX-License-Identifier: BSD-3-Clause"
   ]
  },
  {
   "cell_type": "markdown",
   "metadata": {},
   "source": [
    "# Create duplicates datasets for training on PACS benchmark"
   ]
  },
  {
   "cell_type": "markdown",
   "metadata": {},
   "source": [
    "We filter the duplicates dataset to ensure that there is no overlap between the snippet collections and evaluation queries in the PACS benchmark."
   ]
  },
  {
   "cell_type": "code",
   "execution_count": 1,
   "metadata": {},
   "outputs": [],
   "source": [
    "import os; os.environ[\"http_proxy\"] = \"http://135.245.192.7:8000\""
   ]
  },
  {
   "cell_type": "code",
   "execution_count": 2,
   "metadata": {
    "tags": []
   },
   "outputs": [
    {
     "output_type": "stream",
     "name": "stdout",
     "text": "Downloading dataset from http://codebook.dyn.nesc.nokia.net:8089/codesearch-experiments/datasets/pacsv1/staqc-py-valid-raw-pacsv1.jsonl.gz\nDownloading dataset from http://codebook.dyn.nesc.nokia.net:8089/codesearch-experiments/datasets/pacsv1/staqc-py-test-raw.jsonl.gz\nDownloading dataset from http://codebook.dyn.nesc.nokia.net:8089/codesearch-experiments/datasets/pacsv1/so-ds-feb20-valid-pacsv1.jsonl.gz\nDownloading dataset from http://codebook.dyn.nesc.nokia.net:8089/codesearch-experiments/datasets/pacsv1/so-ds-feb20-test.jsonl.gz\n"
    }
   ],
   "source": [
    "from itertools import chain\n",
    "\n",
    "from codesearch.data import load_train_dataset, load_snippet_collection, load_eval_dataset, save_jsonl, load_jsonl\n",
    "\n",
    "duplicates = load_train_dataset(\"so-duplicates-feb20\")\n",
    "conala_snippets = load_snippet_collection(\"conala-curated\")\n",
    "staqc_snippets = load_snippet_collection(\"staqc-py-cleaned\")\n",
    "so_ds = load_snippet_collection(\"so-ds-feb20\")\n",
    "\n",
    "conala_test_queries,_ = load_eval_dataset(\"conala-curated-0.5-test\")\n",
    "staqc_valid_queries, _ = load_eval_dataset(\"staqc-py-raw-valid\")\n",
    "staqc_test_queries, _ = load_eval_dataset(\"staqc-py-raw-test\")\n",
    "so_ds_valid_queries, _ = load_eval_dataset(\"so-ds-feb20-valid\")\n",
    "so_ds_test_queries, _ = load_eval_dataset(\"so-ds-feb20-test\")\n"
   ]
  },
  {
   "cell_type": "code",
   "execution_count": 3,
   "metadata": {},
   "outputs": [
    {
     "output_type": "execute_result",
     "data": {
      "text/plain": "([{'id': '15080500-0',\n   'code': 'os.kill(os.getpid(), signal.SIGUSR1)',\n   'description': 'send a signal `signal.SIGUSR1` to the current process',\n   'language': 'python',\n   'attribution': 'https://stackoverflow.com/questions/15080500'},\n  {'id': '3283984-0',\n   'code': \"bytes.fromhex('4a4b4c').decode('utf-8')\",\n   'description': \"decode a hex string '4a4b4c' to UTF-8.\",\n   'language': 'python',\n   'attribution': 'https://stackoverflow.com/questions/3283984'}],\n 2777,\n [{'code': \"\\n# Create a user account if we haven't found one yet.\\n'social.pipeline.user.create_user',\\n\",\n   'attribution': 'https://stackoverflow.com/questions/36922535',\n   'language': 'python',\n   'rawDescription': 'Use Python social auth to only get tokens',\n   'id': '36922535_0',\n   'description': 'Use Python social auth to only get tokens'},\n  {'code': \"import ssl\\nimport os\\n# get the https certificate\\ncert = ssl.get_server_certificate(('example.com', 443))\\n# append it to my personal chain\\npem_path = os.path.expanduser('~/.pki/CA/cacert.pem')\\nwith open(pem_path, 'a+') as f:\\n    f.write(cert)\\n\",\n   'attribution': 'https://stackoverflow.com/questions/23767304',\n   'language': 'python',\n   'rawDescription': 'How can I verify my selfsigned certificate when using easywebdav?',\n   'id': '23767304_0',\n   'description': 'Verify my selfsigned certificate when using easywebdav'}],\n 203700,\n [{'attribution': ['https://stackoverflow.com',\n    'https://stackoverflow.com/questions/7961363'],\n   'language': 'python',\n   'id': 'removing-duplicates-in-lists',\n   'code': 'from collections import OrderedDict\\nt = [1, 2, 3, 1, 2, 5, 6, 7, 8]\\nt\\nlist(set(t))\\ns = [1, 2, 3]\\nlist(set(t) - set(s))\\n\\nlist(OrderedDict.fromkeys(t))',\n   'description': 'Removing duplicates in lists'},\n  {'attribution': ['https://stackoverflow.com',\n    'https://stackoverflow.com/questions/7961363'],\n   'language': 'python',\n   'id': 'removing-duplicates-in-lists-2',\n   'code': \"from collections import OrderedDict\\nlist(OrderedDict.fromkeys('abracadabra'))\\n\\nlist(dict.fromkeys('abracadabra'))\\n\\nlist(dict.fromkeys('abracadabra'))\",\n   'description': 'Removing duplicates in lists'}],\n 12137)"
     },
     "metadata": {},
     "execution_count": 3
    }
   ],
   "source": [
    "conala_snippets[:2], len(conala_snippets), staqc_snippets[:2], len(staqc_snippets), so_ds[:2], len(so_ds)"
   ]
  },
  {
   "cell_type": "code",
   "execution_count": 4,
   "metadata": {
    "tags": []
   },
   "outputs": [
    {
     "output_type": "stream",
     "name": "stdout",
     "text": "How can I send a signal from a python program?\nHow to access python class attributes dynamically?\nPython different value when printing and reading\npython: if column condition met change value in that column\nHow to break an import line in python?\nHow to add attributes in input element with Beautifulsoup\nIs Python's order of evaluation of function arguments and operands deterministic (+ where is it documented)?\nJPG image into matrix Using python\nSetting different color for each series in scatter plot on matplotlib\n"
    }
   ],
   "source": [
    "ids_to_filter = set()\n",
    "descriptions_to_filter = set()\n",
    "for s in conala_snippets:\n",
    "    ids_to_filter.add(s[\"id\"].split(\"-\")[0])\n",
    "    descriptions_to_filter.add(s[\"description\"].lower())\n",
    "\n",
    "for s in staqc_snippets:\n",
    "    ids_to_filter.add(s[\"id\"].split(\"_\")[0])\n",
    "    descriptions_to_filter.add(s[\"description\"].lower())\n",
    "\n",
    "for s in so_ds:\n",
    "    so_id = str(int(s[\"attribution\"][-1].split(\"/\")[-1]))\n",
    "    ids_to_filter.add(so_id)\n",
    "    descriptions_to_filter.add(s[\"description\"].lower())\n",
    "\n",
    "queries = chain(\n",
    "    conala_test_queries, \n",
    "    staqc_valid_queries, \n",
    "    staqc_test_queries, \n",
    "    so_ds_valid_queries, \n",
    "    so_ds_test_queries)\n",
    "\n",
    "for i, q in enumerate(queries):\n",
    "    if i % 1000 == 0: print(q)\n",
    "    descriptions_to_filter.add(q.lower())"
   ]
  },
  {
   "cell_type": "code",
   "execution_count": 5,
   "metadata": {},
   "outputs": [
    {
     "output_type": "execute_result",
     "data": {
      "text/plain": "133802"
     },
     "metadata": {},
     "execution_count": 5
    }
   ],
   "source": [
    "len(ids_to_filter)"
   ]
  },
  {
   "cell_type": "code",
   "execution_count": 6,
   "metadata": {},
   "outputs": [
    {
     "output_type": "execute_result",
     "data": {
      "text/plain": "(187968,\n 195498,\n [\"How do I check for nulls in an '==' operator overload without infinite recursion?\",\n  'Best way to handle null when writing equals operator',\n  \"How to compare two objects of different types where one inherits the other's type\",\n  'Overriding == operator. How to compare to null?',\n  \"When overloading the equality operator, what's the best way to handle null values?\",\n  '(C#) Problems when overloading the == operator',\n  'How can i implement == and check for null in c#',\n  'C# equality operators override (== and !=)',\n  'Why Use Value Equality On a Reference Type',\n  'Overriding Equals/GetHashCode for class in order to use hashset Contains/ExceptWith/UnionWith',\n  'How can I ignore an operator overload',\n  'how to avoid stackoverflow in == overload',\n  'Operator overloading giving error',\n  'What is \"Best Practice\" For Comparing Two Instances of a Reference Type?',\n  'C# operator == check for null',\n  'Having problems comparing two custom class objects'],\n 34,\n 304)"
     },
     "metadata": {},
     "execution_count": 6
    }
   ],
   "source": [
    "duplicates_train = []\n",
    "removed_duplicates = []\n",
    "num_filtered_id_only = num_filtered_descr_only = 0\n",
    "for dup_record in duplicates:\n",
    "    original_id, original_descr = dup_record[\"original\"]\n",
    "    ids = [original_id]\n",
    "    descriptions = [original_descr]\n",
    "    for dupl_id, dupl_descr in dup_record[\"duplicates\"]:\n",
    "        ids.append(dupl_id)\n",
    "        descriptions.append(dupl_descr)\n",
    "\n",
    "    id_match = any(map(lambda id_: id_ in ids_to_filter, ids))\n",
    "    dupl_match = any(map(lambda d: d.lower() in descriptions_to_filter, descriptions))\n",
    "    if id_match or dupl_match:\n",
    "        removed_duplicates.append(dup_record)\n",
    "    else:\n",
    "        duplicates_train.append(descriptions)\n",
    "    \n",
    "    num_filtered_id_only += int(id_match and not dupl_match)\n",
    "    num_filtered_descr_only += int(not id_match and dupl_match)\n",
    "len(duplicates_train), len(duplicates), duplicates_train[0], num_filtered_descr_only, num_filtered_id_only"
   ]
  },
  {
   "cell_type": "code",
   "execution_count": 27,
   "metadata": {},
   "outputs": [],
   "source": [
    "save_jsonl(\"so-duplicates-pacsv1-train.jsonl\", duplicates_train)"
   ]
  },
  {
   "cell_type": "code",
   "execution_count": 21,
   "metadata": {
    "tags": []
   },
   "outputs": [
    {
     "output_type": "stream",
     "name": "stdout",
     "text": "Downloading dataset from http://codebook.dyn.nesc.nokia.net:8089/codesearch-experiments/datasets/pacsv1/conala-test-curated-0.5.jsonl.gz\nDownloading dataset from http://codebook.dyn.nesc.nokia.net:8089/codesearch-experiments/datasets/pacsv1/staqc-py-valid-raw.jsonl.gz\nDownloading dataset from http://codebook.dyn.nesc.nokia.net:8089/codesearch-experiments/datasets/pacsv1/staqc-py-test-raw.jsonl.gz\nDownloading dataset from http://codebook.dyn.nesc.nokia.net:8089/codesearch-experiments/datasets/pacsv1/so-ds-feb20-valid.jsonl.gz\nDownloading dataset from http://codebook.dyn.nesc.nokia.net:8089/codesearch-experiments/datasets/pacsv1/so-ds-feb20-test.jsonl.gz\n"
    }
   ],
   "source": [
    "conala_test_queries,_ = load_eval_dataset(\"conala-curated-0.5-test\")\n",
    "staqc_valid_queries, _ = load_eval_dataset(\"staqc-py-raw-valid\")\n",
    "staqc_test_queries, _ = load_eval_dataset(\"staqc-py-raw-test\")\n",
    "so_ds_valid_queries, _ = load_eval_dataset(\"so-ds-feb20-valid\")\n",
    "so_ds_test_queries, _ = load_eval_dataset(\"so-ds-feb20-test\")"
   ]
  },
  {
   "cell_type": "code",
   "execution_count": 22,
   "metadata": {},
   "outputs": [],
   "source": [
    "\n",
    "staqc_valid_ds = load_jsonl(\"staqc-py-valid-raw.jsonl\")\n",
    "so_ds_valid_ds = load_jsonl(\"so-ds-feb20-valid.jsonl\")"
   ]
  },
  {
   "cell_type": "code",
   "execution_count": 23,
   "metadata": {
    "tags": []
   },
   "outputs": [
    {
     "output_type": "execute_result",
     "data": {
      "text/plain": "(2748, 2599, 1112, 946)"
     },
     "metadata": {},
     "execution_count": 23
    }
   ],
   "source": [
    "\n",
    "test_queries = set(q.lower() for q in chain(conala_test_queries, staqc_test_queries, so_ds_test_queries))\n",
    "\n",
    "\n",
    "def filter_test_queries(ds):\n",
    "    filtered_ds = []\n",
    "    for r in ds:\n",
    "        q = r[\"query\"].lower()\n",
    "        if q not in test_queries:\n",
    "            filtered_ds.append(r)\n",
    "\n",
    "    return filtered_ds\n",
    "    \n",
    "staqc_valid_ds_filtered = filter_test_queries(staqc_valid_ds)\n",
    "so_ds_valid_ds_filtered = filter_test_queries(so_ds_valid_ds)\n",
    "\n",
    "len(staqc_valid_ds), len(staqc_valid_ds_filtered), len(so_ds_valid_ds), len(so_ds_valid_ds_filtered)"
   ]
  },
  {
   "cell_type": "code",
   "execution_count": 24,
   "metadata": {},
   "outputs": [],
   "source": [
    "save_jsonl(\"staqc-py-valid-raw-pacsv1.jsonl\", staqc_valid_ds_filtered)\n",
    "save_jsonl(\"so-ds-feb20-valid-pacsv1.jsonl\", so_ds_valid_ds_filtered)\n"
   ]
  },
  {
   "cell_type": "code",
   "execution_count": null,
   "metadata": {},
   "outputs": [],
   "source": []
  }
 ],
 "metadata": {
  "kernelspec": {
   "display_name": "Python 3",
   "language": "python",
   "name": "python3"
  },
  "language_info": {
   "codemirror_mode": {
    "name": "ipython",
    "version": 3
   },
   "file_extension": ".py",
   "mimetype": "text/x-python",
   "name": "python",
   "nbconvert_exporter": "python",
   "pygments_lexer": "ipython3",
   "version": "3.7.7"
  }
 },
 "nbformat": 4,
 "nbformat_minor": 4
}