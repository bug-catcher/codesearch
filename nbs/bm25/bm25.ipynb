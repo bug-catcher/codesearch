{
 "cells": [
  {
   "cell_type": "markdown",
   "metadata": {
    "Collapsed": "false"
   },
   "source": [
    "© 2020 Nokia\n",
    "\n",
    "Licensed under the BSD 3 Clause license\n",
    "\n",
    "SPDX-License-Identifier: BSD-3-Clause"
   ]
  },
  {
   "cell_type": "code",
   "execution_count": null,
   "metadata": {
    "Collapsed": "false"
   },
   "outputs": [],
   "source": [
    "%load_ext autoreload\n",
    "%autoreload 2\n",
    "\n",
    "import os\n",
    "import json\n",
    "import time\n",
    "\n",
    "from codesearch.data import load_snippet_collection, EVAL_DATASETS, eval_datasets_from_regex\n",
    "from codesearch.encoders import BasicEncoder\n",
    "from codesearch.bm25_retrieval import BM250RetrievalModel\n",
    "from codesearch.evaluation import evaluate_and_dump \n",
    "\n",
    "start = time.time()"
   ]
  },
  {
   "cell_type": "code",
   "execution_count": null,
   "metadata": {
    "Collapsed": "false"
   },
   "outputs": [],
   "source": [
    "text_overrides = json.loads(os.environ.get(\"text_overrides\", \"{}\"))\n",
    "code_overrides = json.loads(os.environ.get(\"code_overrides\", \"{}\"))\n",
    "model_filename = os.environ.get(\"model_filename\")\n",
    "snippets_collection = os.environ.get(\"snippets_collection\", \"so-ds-feb20\")\n",
    "valid_dataset = os.environ.get(\"valid_dataset\", \"so-ds-feb20-valid\")\n",
    "test_dataset = os.environ.get(\"test_dataset\", \"so-ds-feb20-test\")\n",
    "\n",
    "output_dir = os.environ.get(\"output_dir\", \".\")"
   ]
  },
  {
   "cell_type": "code",
   "execution_count": null,
   "metadata": {
    "Collapsed": "false"
   },
   "outputs": [],
   "source": [
    "text_overrides"
   ]
  },
  {
   "cell_type": "code",
   "execution_count": null,
   "metadata": {
    "Collapsed": "false"
   },
   "outputs": [],
   "source": [
    "code_overrides"
   ]
  },
  {
   "cell_type": "markdown",
   "metadata": {
    "Collapsed": "false"
   },
   "source": [
    "## Load data"
   ]
  },
  {
   "cell_type": "code",
   "execution_count": null,
   "metadata": {
    "Collapsed": "false"
   },
   "outputs": [],
   "source": [
    "if valid_dataset and valid_dataset not in EVAL_DATASETS:\n",
    "    raise ValueError()\n",
    "test_datasets = eval_datasets_from_regex(test_dataset)\n",
    "snippets = load_snippet_collection(snippets_collection)"
   ]
  },
  {
   "cell_type": "code",
   "execution_count": null,
   "metadata": {
    "Collapsed": "false"
   },
   "outputs": [],
   "source": [
    "snippets_collection, valid_dataset, test_datasets"
   ]
  },
  {
   "cell_type": "markdown",
   "metadata": {
    "Collapsed": "false"
   },
   "source": [
    "## Preprocessing"
   ]
  },
  {
   "cell_type": "code",
   "execution_count": null,
   "metadata": {
    "Collapsed": "false"
   },
   "outputs": [],
   "source": [
    "enc = BasicEncoder(text_preprocessing_params=text_overrides, code_preprocessing_params=code_overrides)"
   ]
  },
  {
   "cell_type": "markdown",
   "metadata": {
    "Collapsed": "false"
   },
   "source": [
    "## Create retrieval model"
   ]
  },
  {
   "cell_type": "code",
   "execution_count": null,
   "metadata": {
    "Collapsed": "false"
   },
   "outputs": [],
   "source": [
    "retrieval_model = BM250RetrievalModel(enc, index_code=True, index_description=False)\n",
    "if model_filename:\n",
    "    retrieval_model.save(model_filename)\n",
    "\n",
    "retrieval_model.add_snippets(snippets)"
   ]
  },
  {
   "cell_type": "code",
   "execution_count": null,
   "metadata": {
    "Collapsed": "false"
   },
   "outputs": [],
   "source": [
    "if model_filename:\n",
    "    retrieval_model.save(model_filename)"
   ]
  },
  {
   "cell_type": "markdown",
   "metadata": {
    "Collapsed": "false"
   },
   "source": [
    "## Evaluation"
   ]
  },
  {
   "cell_type": "code",
   "execution_count": null,
   "metadata": {
    "Collapsed": "false"
   },
   "outputs": [],
   "source": [
    "sample_queries = [\"train a tensorflow model\", \"plot a bar chart\", \"merge two dataframes\", \"sort a list\", \"read a pandas dataframe from a file\", \"plot an image\"]\n",
    "config = {\"text\": text_overrides, \"code\": code_overrides}\n",
    "evaluate_and_dump(\n",
    "    retrieval_model, \n",
    "    config, \n",
    "    output_dir, \n",
    "    valid_dataset, \n",
    "    test_datasets,\n",
    "    sample_queries=sample_queries\n",
    ")"
   ]
  },
  {
   "cell_type": "code",
   "execution_count": null,
   "metadata": {
    "Collapsed": "false"
   },
   "outputs": [],
   "source": [
    "duration = time.time() - start\n",
    "f\"Running the notebook took {duration} seconds\""
   ]
  }
 ],
 "metadata": {
  "kernelspec": {
   "display_name": "Python 3",
   "language": "python",
   "name": "python3"
  },
  "language_info": {
   "codemirror_mode": {
    "name": "ipython",
    "version": 3
   },
   "file_extension": ".py",
   "mimetype": "text/x-python",
   "name": "python",
   "nbconvert_exporter": "python",
   "pygments_lexer": "ipython3",
   "version": "3.7.5"
  }
 },
 "nbformat": 4,
 "nbformat_minor": 4
}
