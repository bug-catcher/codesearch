{
 "cells": [
  {
   "cell_type": "markdown",
   "metadata": {
    "Collapsed": "false"
   },
   "source": [
    "# BM25 Experiments"
   ]
  },
  {
   "cell_type": "markdown",
   "metadata": {
    "Collapsed": "false"
   },
   "source": [
    "© 2020 Nokia\n",
    "\n",
    "Licensed under the BSD 3 Clause license\n",
    "\n",
    "SPDX-License-Identifier: BSD-3-Clause"
   ]
  },
  {
   "cell_type": "code",
   "execution_count": 23,
   "metadata": {
    "Collapsed": "false"
   },
   "outputs": [
    {
     "name": "stdout",
     "output_type": "stream",
     "text": [
      "The autoreload extension is already loaded. To reload it, use:\n",
      "  %reload_ext autoreload\n"
     ]
    }
   ],
   "source": [
    "%load_ext autoreload\n",
    "%autoreload 2"
   ]
  },
  {
   "cell_type": "code",
   "execution_count": 24,
   "metadata": {
    "Collapsed": "false"
   },
   "outputs": [],
   "source": [
    "from pathlib import Path\n",
    "import json\n",
    "import os\n",
    "\n",
    "os.environ[\"snippets_collection\"] = \"staqc-snippets-cleaned\"\n",
    "os.environ[\"valid_dataset\"] = \"staqc-py-raw-valid\"\n",
    "os.environ[\"test_dataset\"] = \"staqc-py-raw-test\"\n",
    "\n",
    "output_dir = Path(\"staqc-py\")\n",
    "os.environ[\"output_dir\"] = str(output_dir)\n",
    "if not output_dir.exists():\n",
    "    output_dir.mkdir()"
   ]
  },
  {
   "cell_type": "markdown",
   "metadata": {
    "Collapsed": "false"
   },
   "source": [
    "## Preprocessing hyperparameters"
   ]
  },
  {
   "cell_type": "code",
   "execution_count": 25,
   "metadata": {
    "Collapsed": "false"
   },
   "outputs": [],
   "source": [
    "text_overrides_ = [{}, {\"lemmatize\": False}, {\"remove_stop\": False}] + 8 * [{}]\n",
    "code_overrides_ = [{},\n",
    "                  {\"lemmatize\": False}, \n",
    "                  {\"remove_stop\": False}, \n",
    "                  {\"keep_comments\": False},\n",
    "                  {\"identifier_types\": [\"call\", \"import\"]}, # without other identifiers\n",
    "                  {\"identifier_types\": [ \"attribute\", \"argument\", \"generic\", \"import\"]}, # without calls\n",
    "                  {\"identifier_types\": [ \"attribute\", \"argument\", \"generic\", \"call\"]},   # without import\n",
    "                  {\"rstrip_numbers\": False},\n",
    "                  {\"keep_loops\": False},\n",
    "                  {\"keep_bin_ops\": False},\n",
    "                  {\"case_split\": False}\n",
    "                  ] "
   ]
  },
  {
   "cell_type": "code",
   "execution_count": null,
   "metadata": {
    "Collapsed": "false"
   },
   "outputs": [
    {
     "name": "stdout",
     "output_type": "stream",
     "text": [
      "[NbConvertApp] Converting notebook bm25.ipynb to html\n",
      "[NbConvertApp] Executing notebook with kernel: python3\n"
     ]
    }
   ],
   "source": [
    "for i, (text_overrides, code_overrides) in enumerate(zip(text_overrides_, code_overrides_)):\n",
    "    os.environ[\"text_overrides\"] = json.dumps(text_overrides)\n",
    "    os.environ[\"code_overrides\"] = json.dumps(code_overrides)\n",
    "    output_base = str(output_dir/f\"preprocess_{i}\")\n",
    "    !python -m nbconvert bm25.ipynb --execute --NbConvertApp.output_base=$output_base --ExecutePreprocessor.timeout=3600  \n"
   ]
  },
  {
   "cell_type": "markdown",
   "metadata": {
    "Collapsed": "false"
   },
   "source": [
    "## Save best model"
   ]
  },
  {
   "cell_type": "code",
   "execution_count": null,
   "metadata": {
    "Collapsed": "false"
   },
   "outputs": [],
   "source": [
    "os.environ[\"text_overrides\"] = json.dumps({\"lemmatize\": False})\n",
    "os.environ[\"code_overrides\"] = json.dumps({\"lemmatize\": False, \"rstrip_numbers\": False})\n",
    "os.environ[\"model_filename\"] = str(\"best_bm25\")\n",
    "output_base = str(output_dir/f\"best_mb25\")\n",
    "!python -m nbconvert bm25.ipynb --execute --NbConvertApp.output_base=$output_base --ExecutePreprocessor.timeout=3600  \n",
    "\n",
    "os.environ[\"model_filename\"] = \"\""
   ]
  },
  {
   "cell_type": "code",
   "execution_count": 18,
   "metadata": {
    "Collapsed": "false"
   },
   "outputs": [
    {
     "name": "stdout",
     "output_type": "stream",
     "text": [
      "codesearch.bm25_retrieval.BM250RetrievalModel\n",
      "codesearch.encoders.BasicEncoder\n"
     ]
    },
    {
     "data": {
      "text/plain": [
       "<codesearch.bm25_retrieval.BM250RetrievalModel at 0x7fad9a188110>"
      ]
     },
     "execution_count": 18,
     "metadata": {},
     "output_type": "execute_result"
    }
   ],
   "source": [
    "from codesearch.utils import load_model\n",
    "\n",
    "load_model(output_dir/\"best_bm25\")"
   ]
  },
  {
   "cell_type": "code",
   "execution_count": null,
   "metadata": {
    "Collapsed": "false"
   },
   "outputs": [],
   "source": []
  }
 ],
 "metadata": {
  "kernelspec": {
   "display_name": "Python 3",
   "language": "python",
   "name": "python3"
  },
  "language_info": {
   "codemirror_mode": {
    "name": "ipython",
    "version": 3
   },
   "file_extension": ".py",
   "mimetype": "text/x-python",
   "name": "python",
   "nbconvert_exporter": "python",
   "pygments_lexer": "ipython3",
   "version": "3.7.5"
  }
 },
 "nbformat": 4,
 "nbformat_minor": 4
}
