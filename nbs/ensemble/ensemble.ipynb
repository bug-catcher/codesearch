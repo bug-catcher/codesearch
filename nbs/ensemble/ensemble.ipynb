{
 "cells": [
  {
   "cell_type": "markdown",
   "metadata": {
    "Collapsed": "false"
   },
   "source": [
    "© 2020 Nokia\n",
    "\n",
    "Licensed under the BSD 3 Clause license\n",
    "\n",
    "SPDX-License-Identifier: BSD-3-Clause"
   ]
  },
  {
   "cell_type": "code",
   "execution_count": null,
   "metadata": {
    "Collapsed": "false"
   },
   "outputs": [],
   "source": [
    "%load_ext autoreload\n",
    "%autoreload 2\n",
    "\n",
    "from pathlib import Path\n",
    "import numpy as np\n",
    "import os\n",
    "\n",
    "os.environ[\"CUDA_VISIBLE_DEVICES\"] = ''\n",
    "from codesearch.ensemble.ensemble_embedder import EnsembleEmbedder\n",
    "from codesearch.utils import load_model\n",
    "from codesearch.embedding_retrieval import EmbeddingRetrievalModel\n",
    "from codesearch.evaluation import evaluate_and_dump\n",
    "from codesearch.data import load_snippet_collection, EVAL_DATASETS, eval_datasets_from_regex\n",
    "from codesearch.utils import Saveable"
   ]
  },
  {
   "cell_type": "code",
   "execution_count": null,
   "metadata": {
    "Collapsed": "false"
   },
   "outputs": [],
   "source": [
    "snippets_collection = \"so-ds-feb20\"\n",
    "valid_dataset = \"so-ds-feb20-valid\"\n",
    "test_dataset = \"so-ds-feb20-test\"\n",
    "ncs_model = \"../ncs/so-ds-feb20/best_ncs_embedder/\"\n",
    "\n",
    "# snippets_collection = \"conala-curated\"\n",
    "# valid_dataset = \"conala-curated-0.5-test\"\n",
    "# test_dataset = \"conala-curated-0.5-test\"\n",
    "# ncs_model = \"../ncs/conala/best_ncs_embedder/\"\n",
    "\n",
    "# snippets_collection = \"staqc-py-cleaned\"\n",
    "# valid_dataset = \"staqc-py-raw-valid\"\n",
    "# test_dataset = \"staqc-py-raw-test\"\n",
    "# ncs_model = \"../ncs/staqc-py/best_ncs_embedder/\"\n",
    "\n",
    "\n",
    "if valid_dataset and valid_dataset not in EVAL_DATASETS:\n",
    "    raise ValueError()\n",
    "test_datasets = eval_datasets_from_regex(test_dataset)\n",
    "snippets = load_snippet_collection(snippets_collection)"
   ]
  },
  {
   "cell_type": "code",
   "execution_count": null,
   "metadata": {
    "Collapsed": "false"
   },
   "outputs": [],
   "source": [
    "model_names = [ncs_model, \n",
    "               \"../tuse/pacsv1/use5-act=relu_sigmoid-sim=cosine-negsamples=5-lr=0.0001-dropout=0.0-date=87/use_steps=1300\",]\n",
    "\n",
    "    \n",
    "for weights in [[.4, 1.], [.5, 1.], [.6, 1.], [.7, 1.]]:\n",
    "\n",
    "    embedder = EnsembleEmbedder(model_names, weights)\n",
    "    retrieval_model = EmbeddingRetrievalModel(embedder)\n",
    "    retrieval_model.add_snippets(snippets)\n",
    "    config = {\"weights\": weights}\n",
    "    results = evaluate_and_dump(retrieval_model, config, \".\", valid_dataset, test_datasets)\n",
    "    print(results)"
   ]
  },
  {
   "cell_type": "code",
   "execution_count": null,
   "metadata": {
    "Collapsed": "false"
   },
   "outputs": [],
   "source": [
    "for weights in [[.3, 1.]]:\n",
    "    embedder = EnsembleEmbedder(model_names, weights)\n",
    "    retrieval_model = EmbeddingRetrievalModel(embedder)\n",
    "    retrieval_model.add_snippets(snippets)\n",
    "    config = {\"weights\": weights}\n",
    "    results = evaluate_and_dump(retrieval_model, config, \".\", valid_dataset, test_datasets)\n",
    "    print(results)"
   ]
  },
  {
   "cell_type": "code",
   "execution_count": null,
   "metadata": {
    "Collapsed": "false"
   },
   "outputs": [],
   "source": []
  }
 ],
 "metadata": {
  "kernelspec": {
   "display_name": "codesearch_ml4",
   "language": "python",
   "name": "codesearch_ml4"
  },
  "language_info": {
   "codemirror_mode": {
    "name": "ipython",
    "version": 3
   },
   "file_extension": ".py",
   "mimetype": "text/x-python",
   "name": "python",
   "nbconvert_exporter": "python",
   "pygments_lexer": "ipython3",
   "version": "3.8.3"
  }
 },
 "nbformat": 4,
 "nbformat_minor": 4
}
