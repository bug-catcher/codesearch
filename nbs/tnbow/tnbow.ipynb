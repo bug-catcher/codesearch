{
 "cells": [
  {
   "cell_type": "markdown",
   "metadata": {
    "Collapsed": "false"
   },
   "source": [
    "# Title bag-of-words embedding"
   ]
  },
  {
   "cell_type": "markdown",
   "metadata": {
    "Collapsed": "false"
   },
   "source": [
    "© 2020 Nokia\n",
    "\n",
    "Licensed under the BSD 3 Clause license\n",
    "\n",
    "SPDX-License-Identifier: BSD-3-Clause"
   ]
  },
  {
   "cell_type": "markdown",
   "metadata": {
    "Collapsed": "false"
   },
   "source": [
    "## Setup"
   ]
  },
  {
   "cell_type": "code",
   "execution_count": null,
   "metadata": {
    "Collapsed": "false"
   },
   "outputs": [],
   "source": [
    "%load_ext autoreload\n",
    "%autoreload 2\n",
    "\n",
    "from pathlib import Path\n",
    "import time\n",
    "import json\n",
    "import os\n",
    "\n",
    "from codesearch.data_config import DATASETS_DIR\n",
    "from codesearch.data import load_train_dataset\n",
    "from codesearch.data import load_snippet_collection, EVAL_DATASETS, eval_datasets_from_regex\n",
    "from codesearch.encoders import BasicEncoder\n",
    "from codesearch.utils import SaveableFunction\n",
    "from codesearch import embedding_pretraining\n",
    "from codesearch.embedding_pretraining import create_input_file_from_text, train_fasttext_model_from_text, load_fasttext_model\n",
    "from codesearch.tnbow.tnbow_embedder import TnbowEmbedder\n",
    "from codesearch.embedding_retrieval import EmbeddingRetrievalModel\n",
    "from codesearch.evaluation import evaluate_and_dump \n",
    "\n",
    "start = time.time()"
   ]
  },
  {
   "cell_type": "markdown",
   "metadata": {
    "Collapsed": "false"
   },
   "source": [
    "This is a first embedding-based method for computing similarity between queries and snippet titles"
   ]
  },
  {
   "cell_type": "markdown",
   "metadata": {
    "Collapsed": "false"
   },
   "source": [
    "Read configuration parameters from environment variables (when this notebook is run as a script)."
   ]
  },
  {
   "cell_type": "code",
   "execution_count": null,
   "metadata": {
    "Collapsed": "false"
   },
   "outputs": [],
   "source": [
    "so_question_titles = \"SO-python-question-title-feb20.tok.txt\"\n",
    "\n",
    "text_input_name = os.environ.get(\"text_input_raw\", \"so-python-question-titles-feb20\")\n",
    "text_input_raw = load_train_dataset(text_input_name) # returns filename and \n",
    "                                                     # downloads file if it is not yet present\n",
    "text_input = DATASETS_DIR/os.environ.get(\"text_input\", so_question_titles)\n",
    "\n",
    "encoder_checkpoint = os.environ.get(\"encoder_checkpoint\", None)\n",
    "fast_text_checkpoint = os.environ.get(\"fast_text_checkpoint\", None)\n",
    "model_filename = os.environ.get(\"model_filename\", None)\n",
    "embedder_filename = os.environ.get(\"embedder_filename\", None) # save embedder\n",
    "\n",
    "snippets_collection = os.environ.get(\"snippet_collection\", \"so-ds-feb20\")\n",
    "valid_dataset = os.environ.get(\"valid_dataset\", \"so-ds-feb20-valid\")\n",
    "test_dataset = os.environ.get(\"test_dataset\", \"so-ds-feb20-test\")\n",
    "\n",
    "text_overrides = json.loads(os.environ.get(\"text_overrides\", \"{}\"))\n",
    "fast_text_overrides = json.loads(os.environ.get(\"fast_text_overrides\", \"{}\"))\n",
    "\n",
    "output_dir = os.environ.get(\"output_dir\", \".\")"
   ]
  },
  {
   "cell_type": "code",
   "execution_count": null,
   "metadata": {
    "Collapsed": "false"
   },
   "outputs": [],
   "source": [
    "model_filename, fast_text_checkpoint, encoder_checkpoint"
   ]
  },
  {
   "cell_type": "code",
   "execution_count": null,
   "metadata": {
    "Collapsed": "false"
   },
   "outputs": [],
   "source": [
    "snippets_collection"
   ]
  },
  {
   "cell_type": "code",
   "execution_count": null,
   "metadata": {
    "Collapsed": "false"
   },
   "outputs": [],
   "source": [
    "text_overrides, text_input_raw, text_input, fast_text_overrides"
   ]
  },
  {
   "cell_type": "markdown",
   "metadata": {
    "Collapsed": "false"
   },
   "source": [
    "## Load data"
   ]
  },
  {
   "cell_type": "code",
   "execution_count": null,
   "metadata": {
    "Collapsed": "false"
   },
   "outputs": [],
   "source": [
    "if valid_dataset and valid_dataset not in EVAL_DATASETS:\n",
    "    raise ValueError()\n",
    "test_datasets = eval_datasets_from_regex(test_dataset)\n",
    "snippets = load_snippet_collection(snippets_collection)"
   ]
  },
  {
   "cell_type": "markdown",
   "metadata": {
    "Collapsed": "false"
   },
   "source": [
    "## Preprocess data for fast text model"
   ]
  },
  {
   "cell_type": "markdown",
   "metadata": {
    "Collapsed": "false"
   },
   "source": [
    "## Train or load embedding model"
   ]
  },
  {
   "cell_type": "code",
   "execution_count": null,
   "metadata": {
    "Collapsed": "false"
   },
   "outputs": [],
   "source": [
    "if fast_text_checkpoint:\n",
    "    model, enc = load_fasttext_model(fast_text_checkpoint)\n",
    "    print(\"Loaded fasttext checkpoint\")\n",
    "    \n",
    "else:\n",
    "    enc = BasicEncoder(text_preprocessing_params=text_overrides)\n",
    "    \n",
    "    if not text_input.exists():\n",
    "        # Preprocess raw text input\n",
    "        create_input_file_from_text(text_input, text_input_raw, enc)\n",
    "    \n",
    "    model = train_fasttext_model_from_text(text_input, enc, fast_text_overrides, \"./\", save=False)"
   ]
  },
  {
   "cell_type": "markdown",
   "metadata": {
    "Collapsed": "false"
   },
   "source": [
    "### Embedding snippets & queries"
   ]
  },
  {
   "cell_type": "code",
   "execution_count": null,
   "metadata": {
    "Collapsed": "false"
   },
   "outputs": [],
   "source": [
    "enc = SaveableFunction(enc.encode_description)\n",
    "embedder = TnbowEmbedder.from_fasttext_model(model, enc)"
   ]
  },
  {
   "cell_type": "markdown",
   "metadata": {
    "Collapsed": "false"
   },
   "source": [
    "### Create retrieval model"
   ]
  },
  {
   "cell_type": "code",
   "execution_count": null,
   "metadata": {
    "Collapsed": "false"
   },
   "outputs": [],
   "source": [
    "retrieval_model = EmbeddingRetrievalModel(embedder)\n",
    "retrieval_model.add_snippets(snippets)"
   ]
  },
  {
   "cell_type": "code",
   "execution_count": null,
   "metadata": {
    "Collapsed": "false"
   },
   "outputs": [],
   "source": [
    "if model_filename: embedder.save(model_filename)"
   ]
  },
  {
   "cell_type": "markdown",
   "metadata": {
    "Collapsed": "false"
   },
   "source": [
    "## Evaluation"
   ]
  },
  {
   "cell_type": "code",
   "execution_count": null,
   "metadata": {
    "Collapsed": "false"
   },
   "outputs": [],
   "source": [
    "sample_queries = [\"train a tensorflow model\", \"plot a bar chart\", \"merge two dataframes\", \"sort a list\", \"read a pandas dataframe from a file\", \"plot an image\"]\n",
    "config = {\"text\": text_overrides, \"fasttext\": fast_text_overrides}\n",
    "evaluate_and_dump(\n",
    "    retrieval_model, \n",
    "    config, \n",
    "    output_dir, \n",
    "    valid_dataset, \n",
    "    test_datasets,\n",
    "    sample_queries=sample_queries\n",
    ")"
   ]
  },
  {
   "cell_type": "code",
   "execution_count": null,
   "metadata": {
    "Collapsed": "false"
   },
   "outputs": [],
   "source": [
    "duration = time.time() - start\n",
    "f\"Running the notebook took {duration} seconds\""
   ]
  },
  {
   "cell_type": "code",
   "execution_count": null,
   "metadata": {
    "Collapsed": "false"
   },
   "outputs": [],
   "source": []
  }
 ],
 "metadata": {
  "kernelspec": {
   "display_name": "Python 3",
   "language": "python",
   "name": "python3"
  },
  "language_info": {
   "codemirror_mode": {
    "name": "ipython",
    "version": 3
   },
   "file_extension": ".py",
   "mimetype": "text/x-python",
   "name": "python",
   "nbconvert_exporter": "python",
   "pygments_lexer": "ipython3",
   "version": "3.7.5"
  }
 },
 "nbformat": 4,
 "nbformat_minor": 4
}
